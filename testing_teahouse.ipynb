{
 "cells": [
  {
   "cell_type": "code",
   "execution_count": 5,
   "id": "ce8d219d-1a42-4ab5-bcaa-d29b1330757d",
   "metadata": {},
   "outputs": [
    {
     "ename": "ValueError",
     "evalue": "We do not have that tea, please choose a different one.",
     "output_type": "error",
     "traceback": [
      "\u001b[1;31m---------------------------------------------------------------------------\u001b[0m",
      "\u001b[1;31mValueError\u001b[0m                                Traceback (most recent call last)",
      "\u001b[1;32mc:\\Users\\Katherine\\Documents\\inst326_spr2022\\jasmine__dragon\\testing_teahouse.ipynb Cell 1'\u001b[0m in \u001b[0;36m<module>\u001b[1;34m\u001b[0m\n\u001b[0;32m      <a href='vscode-notebook-cell:/c%3A/Users/Katherine/Documents/inst326_spr2022/jasmine__dragon/testing_teahouse.ipynb#ch0000000?line=0'>1</a>\u001b[0m \u001b[39mimport\u001b[39;00m \u001b[39mteahouse\u001b[39;00m \u001b[39mas\u001b[39;00m \u001b[39mt\u001b[39;00m\n\u001b[0;32m      <a href='vscode-notebook-cell:/c%3A/Users/Katherine/Documents/inst326_spr2022/jasmine__dragon/testing_teahouse.ipynb#ch0000000?line=2'>3</a>\u001b[0m \u001b[39m#tea object - one parameter\u001b[39;00m\n\u001b[1;32m----> <a href='vscode-notebook-cell:/c%3A/Users/Katherine/Documents/inst326_spr2022/jasmine__dragon/testing_teahouse.ipynb#ch0000000?line=3'>4</a>\u001b[0m tea1 \u001b[39m=\u001b[39m t\u001b[39m.\u001b[39;49mTea(\u001b[39m\"\u001b[39;49m\u001b[39mOolong\u001b[39;49m\u001b[39m\"\u001b[39;49m)\n\u001b[0;32m      <a href='vscode-notebook-cell:/c%3A/Users/Katherine/Documents/inst326_spr2022/jasmine__dragon/testing_teahouse.ipynb#ch0000000?line=5'>6</a>\u001b[0m \u001b[39mprint\u001b[39m(tea1\u001b[39m.\u001b[39m\u001b[39m__str__\u001b[39m())\n",
      "File \u001b[1;32mc:\\Users\\Katherine\\Documents\\inst326_spr2022\\jasmine__dragon\\teahouse.py:299\u001b[0m, in \u001b[0;36mTea.__init__\u001b[1;34m(self, type, temp, size, add_in)\u001b[0m\n\u001b[0;32m    <a href='file:///c%3A/Users/Katherine/Documents/inst326_spr2022/jasmine__dragon/teahouse.py?line=296'>297</a>\u001b[0m \u001b[39mfor\u001b[39;00m i \u001b[39min\u001b[39;00m \u001b[39mtype\u001b[39m:\n\u001b[0;32m    <a href='file:///c%3A/Users/Katherine/Documents/inst326_spr2022/jasmine__dragon/teahouse.py?line=297'>298</a>\u001b[0m     \u001b[39mif\u001b[39;00m i \u001b[39m!=\u001b[39m \u001b[39mtype\u001b[39m:\n\u001b[1;32m--> <a href='file:///c%3A/Users/Katherine/Documents/inst326_spr2022/jasmine__dragon/teahouse.py?line=298'>299</a>\u001b[0m         \u001b[39mraise\u001b[39;00m \u001b[39mValueError\u001b[39;00m(\u001b[39m\"\u001b[39m\u001b[39mWe do not have that tea, please choose a different one.\u001b[39m\u001b[39m\"\u001b[39m)\n\u001b[0;32m    <a href='file:///c%3A/Users/Katherine/Documents/inst326_spr2022/jasmine__dragon/teahouse.py?line=299'>300</a>\u001b[0m \u001b[39mself\u001b[39m\u001b[39m.\u001b[39mtemp \u001b[39m=\u001b[39m temp\n\u001b[0;32m    <a href='file:///c%3A/Users/Katherine/Documents/inst326_spr2022/jasmine__dragon/teahouse.py?line=300'>301</a>\u001b[0m \u001b[39mself\u001b[39m\u001b[39m.\u001b[39msize \u001b[39m=\u001b[39m size \n",
      "\u001b[1;31mValueError\u001b[0m: We do not have that tea, please choose a different one."
     ]
    }
   ],
   "source": [
    "import teahouse as t\n",
    "\n",
    "#tea object - one parameter\n",
    "tea1 = t.Tea(\"Oolong\")\n",
    "\n",
    "print(tea1.__str__())    "
   ]
  },
  {
   "cell_type": "code",
   "execution_count": null,
   "id": "eefbd9e1-3cc7-45e9-b42e-268d84dd876a",
   "metadata": {},
   "outputs": [
    {
     "name": "stdout",
     "output_type": "stream",
     "text": [
      "Tea Order: Type: 'Oolong' Temperature: 'hot' Size:'medium' add_in: 'Nothing'\n",
      "None\n",
      "Tea Order: Type: 'Jasmine Green' Temperature: 'cold' Size:'medium' add_in: 'boba'\n",
      "None\n",
      "Tea Order: Type: 'Green' Temperature: 'hot' Size:'large' add_in: 'Nothing'\n",
      "None\n"
     ]
    }
   ],
   "source": [
    "import teahouse as t\n",
    "\n",
    "#3 tea objects created - one parameter, 3 parameter, 2 parameter\n",
    "tea1 = t.Tea(\"Oolong\")\n",
    "tea2 = t.Tea(\"Jasmine Green\", temp = \"cold\", add_in = \"boba\") \n",
    "tea3 = t.Tea(\"Green\", size = \"large\")\n",
    "\n",
    "tea_list = (tea1, tea2, tea3)\n",
    "\n",
    "for tea in tea_list:\n",
    "    print(tea.__str__())"
   ]
  },
  {
   "cell_type": "code",
   "execution_count": null,
   "id": "88bc7aec-9a56-474b-877d-0991c6bf8ede",
   "metadata": {},
   "outputs": [
    {
     "name": "stdout",
     "output_type": "stream",
     "text": [
      "Tea Order: Type: 'Lychee Jasmine' Temperature: 'hot' Size:'medium' add_in: 'Nothing'\n",
      "None\n",
      "Tea Order: Type: 'Jasmine Green' Temperature: 'cold' Size:'medium' add_in: 'boba'\n",
      "None\n",
      "Tea Order: Type: 'Oolong' Temperature: 'hot' Size:'large' add_in: 'Nothing'\n",
      "None\n"
     ]
    }
   ],
   "source": [
    "#same 3 tea objects but changing the tea attributes\n",
    "#    --> to test tea class before allowing a customer change their order in the TeaHouse Class\n",
    "tea1.updateTea(newType=\"Lychee Jasmine\", newAdd_in = \"boba\")\n",
    "tea3.updateTea(newType=\"Oolong\")\n",
    "\n",
    "tea_list = (tea1, tea2, tea3)\n",
    "\n",
    "for tea in tea_list:\n",
    "    print(tea.__str__())"
   ]
  },
  {
   "cell_type": "code",
   "execution_count": null,
   "id": "1e680649-19f5-4ea8-b51f-e15d52921ce6",
   "metadata": {},
   "outputs": [],
   "source": []
  }
 ],
 "metadata": {
  "kernelspec": {
   "display_name": "Python 3 (ipykernel)",
   "language": "python",
   "name": "python3"
  },
  "language_info": {
   "codemirror_mode": {
    "name": "ipython",
    "version": 3
   },
   "file_extension": ".py",
   "mimetype": "text/x-python",
   "name": "python",
   "nbconvert_exporter": "python",
   "pygments_lexer": "ipython3",
   "version": "3.10.2"
  }
 },
 "nbformat": 4,
 "nbformat_minor": 5
}
