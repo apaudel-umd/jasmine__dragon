{
 "cells": [
  {
   "cell_type": "code",
   "execution_count": 1,
   "id": "ce8d219d-1a42-4ab5-bcaa-d29b1330757d",
   "metadata": {},
   "outputs": [
    {
     "name": "stdout",
     "output_type": "stream",
     "text": [
      "Tea Order: Type: 'Oolong' Temperature: 'hot' Size:'medium' add_in: 'Nothing'\n",
      "None\n"
     ]
    }
   ],
   "source": [
    "import teahouse as t\n",
    "\n",
    "#tea object - one parameter\n",
    "tea1 = t.Tea(\"Oolong\")\n",
    "\n",
    "print(tea1.__str__())    "
   ]
  },
  {
   "cell_type": "code",
   "execution_count": 2,
   "id": "eefbd9e1-3cc7-45e9-b42e-268d84dd876a",
   "metadata": {},
   "outputs": [
    {
     "name": "stdout",
     "output_type": "stream",
     "text": [
      "Tea Order: Type: 'Oolong' Temperature: 'hot' Size:'medium' add_in: 'Nothing'\n",
      "None\n",
      "Tea Order: Type: 'Jasmine Green' Temperature: 'cold' Size:'medium' add_in: 'boba'\n",
      "None\n",
      "Tea Order: Type: 'Green' Temperature: 'hot' Size:'large' add_in: 'Nothing'\n",
      "None\n"
     ]
    }
   ],
   "source": [
    "import teahouse as t\n",
    "\n",
    "#3 tea objects created - one parameter, 3 parameter, 2 parameter\n",
    "tea1 = t.Tea(\"Oolong\")\n",
    "tea2 = t.Tea(\"Jasmine Green\", temp = \"cold\", add_in = \"boba\") \n",
    "tea3 = t.Tea(\"Green\", size = \"large\")\n",
    "\n",
    "tea_list = (tea1, tea2, tea3)\n",
    "\n",
    "for tea in tea_list:\n",
    "    print(tea.__str__())"
   ]
  },
  {
   "cell_type": "code",
   "execution_count": 3,
   "id": "88bc7aec-9a56-474b-877d-0991c6bf8ede",
   "metadata": {},
   "outputs": [
    {
     "name": "stdout",
     "output_type": "stream",
     "text": [
      "Tea Order: Type: 'Lychee Jasmine' Temperature: 'hot' Size:'medium' add_in: 'Nothing'\n",
      "None\n",
      "Tea Order: Type: 'Jasmine Green' Temperature: 'cold' Size:'medium' add_in: 'boba'\n",
      "None\n",
      "Tea Order: Type: 'Oolong' Temperature: 'hot' Size:'large' add_in: 'Nothing'\n",
      "None\n"
     ]
    }
   ],
   "source": [
    "#same 3 tea objects but changing the tea attributes\n",
    "#    --> to test tea class before allowing a customer change their order in the TeaHouse Class\n",
    "tea1.updateTea(newType=\"Lychee Jasmine\", newAdd_in = \"boba\")\n",
    "tea3.updateTea(newType=\"Oolong\")\n",
    "\n",
    "tea_list = (tea1, tea2, tea3)\n",
    "\n",
    "for tea in tea_list:\n",
    "    print(tea.__str__())"
   ]
  },
  {
   "cell_type": "code",
   "execution_count": null,
   "id": "1e680649-19f5-4ea8-b51f-e15d52921ce6",
   "metadata": {},
   "outputs": [],
   "source": []
  }
 ],
 "metadata": {
  "kernelspec": {
   "display_name": "Python 3 (ipykernel)",
   "language": "python",
   "name": "python3"
  },
  "language_info": {
   "codemirror_mode": {
    "name": "ipython",
    "version": 3
   },
   "file_extension": ".py",
   "mimetype": "text/x-python",
   "name": "python",
   "nbconvert_exporter": "python",
   "pygments_lexer": "ipython3",
   "version": "3.10.2"
  }
 },
 "nbformat": 4,
 "nbformat_minor": 5
}
